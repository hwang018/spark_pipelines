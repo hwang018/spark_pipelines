{
 "cells": [
  {
   "cell_type": "markdown",
   "metadata": {},
   "source": [
    "# General pipeline for binary classification tasks in spark ml\n",
    "\n",
    "$\\color{blue}{\\text{Covering major components in real life scenarios for binary classification tasks using structured datasets.}}$\n",
    "\n",
    "Modelling and data transformation part will be mostly operated in pure spark, but exploration and plotting metrics may involve pandas components.\n",
    "\n",
    "The toolkits are in the lib/ folder, covering following topics:\n",
    "\n",
    "0. summary on transformer, estimators, pipelines\n",
    "1. spark and pandas dataframe conversion, tips in converting datatypes and assign correct schema\n",
    "2. typical udf to transform columns\n",
    "3. explorative analysis on spark df\n",
    "4. categorical variables encoding methods, some advanced types of encoding implemented\n",
    "5. feature selection methods in spark ml, selection based on model, lasso...\n",
    "6. handling skewed datasets and highly imbalanced labels (up/down sampling) SMOTE in spark\n",
    "7. modelling toolkits, contains common classifiers and their tuning guidance, use of xgboost in spark\n",
    "8. metrics plotting tools, to plot common metrics after training"
   ]
  },
  {
   "cell_type": "markdown",
   "metadata": {},
   "source": [
    "### Spark ml structure:\n",
    "Key components:\n",
    "1. Transformer\n",
    "2. Estimator\n",
    "3. Pipeline\n",
    "\n",
    "$\\textbf{Transformer}$ can transform one df into another df by appending new columns onto original df. E.g., an ML model is a Transformer which transforms a DataFrame with features into a DataFrame with predictions. It has .transform() method, normally taking df as input. Transformers can be trained models, trained encoders.\n",
    "\n",
    "$\\textbf{Estimator}$ is an algorithm to be fit on a df to produce a Transformer. E.g., a learning algorithm is an Estimator which trains on a df and produces a model; if we specify a One-hot-encoder, it is an estimarot object, we need to .fit() it onto a column and obtain a transformer. Output of fitted/trained estimator is transformer.\n",
    "\n",
    "$\\textbf{Pipeline}$ chains multiple Transformers and Estimators together to specify an ML workflow. When executing the pipeline, spark will automatically sort out the steps to execute, depending on whether you called a .fit() or .transform() method. A Pipeline is specified as a sequence of stages, and each stage is either a Transformer or an Estimator. These stages are run in order, and the input DataFrame is transformed as it passes through each stage. For Transformer stages, the transform() method is called on the DataFrame. For Estimator stages, the fit() method is called to produce a Transformer (which becomes part of the PipelineModel, or fitted Pipeline). Pipeline is an estimator, after calling pipeline.fit() method, the output will be PipelineModel, a transformer ready to apply .transform() at test time."
   ]
  },
  {
   "cell_type": "code",
   "execution_count": 10,
   "metadata": {},
   "outputs": [],
   "source": [
    "import os\n",
    "import random\n",
    "import pandas as pd\n",
    "pd.options.display.max_columns=None\n",
    "pd.options.display.max_rows=None\n",
    "\n",
    "#import toolkits\n",
    "from lib import util\n",
    "from lib import logger\n",
    "\n",
    "def initialize_spark(app_name='spark_pipeline'):\n",
    "    import findspark\n",
    "    #spark path using default value\n",
    "    findspark.init()\n",
    "\n",
    "    import pyspark\n",
    "    import pyarrow\n",
    "    from pyspark.sql import SQLContext\n",
    "    \n",
    "    #broadcastTimeout is purposedly set to be large due to development on single machine\n",
    "    conf = pyspark.SparkConf()\\\n",
    "        .setAppName(app_name)\\\n",
    "        .setMaster('local')\\\n",
    "        .set('spark.driver.memory', '8g')\\\n",
    "        .set('spark.executor.memory', '8g')\\\n",
    "        .set('spark.executor.instances', 4)\\\n",
    "        .set('spark.executor.cores', 4)\\\n",
    "        .set('spark.driver.maxResultSize', '8g')\\\n",
    "        .set('spark.sql.shuffle.partitions', 100)\\\n",
    "        .set('spark.default.parallelism', 200)\\\n",
    "        .set('spark.sql.broadcastTimeout', 36000)\\\n",
    "        .set('spark.kryoserializer.buffer.max', '1024m')\\\n",
    "        .set('spark.sql.execution.arrow.enabled', 'false')\\\n",
    "        .set('spark.dynamicAllocation.enabled', \"False\")\\\n",
    "        .set('spark.port.maxRetries',30) \n",
    "\n",
    "    sc = pyspark.SparkContext.getOrCreate(conf)\n",
    "    spark = pyspark.sql.SparkSession(sc)\n",
    "    sqlContext = SQLContext.getOrCreate(sc)    \n",
    "    return sc,spark,sqlContext\n",
    "\n",
    "from pyspark.ml import Pipeline\n",
    "from pyspark.ml.feature import StandardScaler\n",
    "from pyspark.ml.feature import VectorAssembler\n",
    "from pyspark.ml.feature import StringIndexer, VectorAssembler\n",
    "from pyspark.ml.feature import OneHotEncoderEstimator, StringIndexer, VectorAssembler\n",
    "from pyspark.sql.types import IntegerType\n",
    "from pyspark.sql.functions import when, lit\n",
    "from distutils.version import LooseVersion\n",
    "from importlib import reload\n",
    "import pyspark.sql.functions as func\n",
    "import pyspark.sql.types as typ"
   ]
  },
  {
   "cell_type": "code",
   "execution_count": 11,
   "metadata": {},
   "outputs": [],
   "source": [
    "sc,spark,sqlContext = initialize_spark()"
   ]
  },
  {
   "cell_type": "markdown",
   "metadata": {},
   "source": [
    "## Loading data into spark dataframe"
   ]
  },
  {
   "cell_type": "code",
   "execution_count": 12,
   "metadata": {},
   "outputs": [],
   "source": [
    "df = pd.read_csv('datasets/adult.csv')\n",
    "# if directly using spark.read.csv('datasets/adult.csv',header=True), unless we specify schema manually,\n",
    "# all columns will be interpreted as string type, troublesome for later process\n",
    "dataset = util.pandas_to_spark(sqlContext,df)\n",
    "dataset = dataset.withColumn('income', when(dataset.income=='<=50K', lit(0)).otherwise(1))\n",
    "cols = dataset.columns"
   ]
  },
  {
   "cell_type": "code",
   "execution_count": 19,
   "metadata": {},
   "outputs": [
    {
     "name": "stdout",
     "output_type": "stream",
     "text": [
      "After downsampling \"income\": label distribution is [Row(income=0, count=23373), Row(income=1, count=11687)]\n"
     ]
    }
   ],
   "source": [
    "from lib import imbalance_handler as imbalance_handle\n",
    "down_sampled_df = imbalance_handle.spark_df_down_sampling(dataset, 2, 'income', major_class_val = 0)"
   ]
  },
  {
   "cell_type": "code",
   "execution_count": 20,
   "metadata": {},
   "outputs": [
    {
     "name": "stdout",
     "output_type": "stream",
     "text": [
      "All columns are been covered.\n"
     ]
    }
   ],
   "source": [
    "# get num_cols and cat_cols from spark df\n",
    "num_cols, cat_cols = util.get_num_cat_feat(dataset)"
   ]
  },
  {
   "cell_type": "code",
   "execution_count": 23,
   "metadata": {},
   "outputs": [],
   "source": [
    "min_cat = 2\n",
    "max_cat = 20"
   ]
  },
  {
   "cell_type": "code",
   "execution_count": 40,
   "metadata": {},
   "outputs": [
    {
     "data": {
      "text/plain": [
       "<module 'lib.feature_selection' from '/Users/hwang/Desktop/spark_pipelines/lib/feature_selection.py'>"
      ]
     },
     "execution_count": 40,
     "metadata": {},
     "output_type": "execute_result"
    }
   ],
   "source": [
    "#function to automate generate string columns and numerical columns from spark df\n",
    "import lib.feature_selection as fs\n",
    "reload(fs)"
   ]
  },
  {
   "cell_type": "code",
   "execution_count": null,
   "metadata": {},
   "outputs": [],
   "source": [
    "cat_coverage_df,no_info_col,cols_high_cardinality = fs.cat_col_cardinality_test(dataset,cat_cols,min_cat,max_cat)"
   ]
  },
  {
   "cell_type": "code",
   "execution_count": null,
   "metadata": {},
   "outputs": [],
   "source": [
    "# find highly correlated columns\n",
    "fs.num_cols_correlation_test(dataset,num_cols,0.1)"
   ]
  },
  {
   "cell_type": "code",
   "execution_count": null,
   "metadata": {},
   "outputs": [],
   "source": []
  },
  {
   "cell_type": "code",
   "execution_count": null,
   "metadata": {},
   "outputs": [],
   "source": []
  },
  {
   "cell_type": "markdown",
   "metadata": {},
   "source": [
    "# Smote, encoding, preprocessing, normalization should happen before smote\n",
    "## Example of spark LSH projection to find nearnest neighbours, as a step in smote upsampling\n",
    "BucketedRandomProjectionLSH: LSH class for Euclidean distance metrics. The input is dense or sparse vectors, each of which represents a point in the Euclidean distance space. The output will be vectors of configurable dimension. Hash values in the same dimension are calculated by the same hash function.\n",
    "\n",
    "Input spark df divided into 3 parts:\n",
    "1. LongType discrete attributes\n",
    "2. StringType discrete attributes\n",
    "3. Continuous numerical type attributes"
   ]
  },
  {
   "cell_type": "code",
   "execution_count": null,
   "metadata": {},
   "outputs": [],
   "source": [
    "import random\n",
    "import numpy as np\n",
    "from pyspark.sql import Row\n",
    "from sklearn import neighbors\n",
    "from pyspark.ml.feature import VectorAssembler\n",
    "\n",
    "#for categorical columns, must take its stringIndexed form (smote should be after string indexing, default by frequency)\n",
    "#using smote on stringIndexed categorical cols, just take randomly of sample value or it's neighbour's value\n",
    "def __vectorAssembler(df,cols_2_vec,target_col):\n",
    "    if(df.select(target_col).distinct().count() != 2):\n",
    "        raise ValueError(\"Target field must have only 2 distinct classes\")\n",
    "        \n",
    "    if target_col in cols_2_vec:\n",
    "        cols_2_vec.remove(target_col)\n",
    "\n",
    "    #only vectorize desired columns\n",
    "    df = df.select(*(cols_2_vec+[target_col]))\n",
    "    \n",
    "    #only assembled numeric columns\n",
    "    assembler=VectorAssembler(inputCols = cols_2_vec, outputCol = 'features')\n",
    "    \n",
    "    pos_vectorized = assembler.transform(df)\n",
    "    \n",
    "    vectorized = pos_vectorized.select('features',target_col).withColumn('label',pos_vectorized[target_col]).drop(target_col)\n",
    "    \n",
    "    return vectorized"
   ]
  },
  {
   "cell_type": "code",
   "execution_count": 83,
   "metadata": {},
   "outputs": [],
   "source": [
    "vectorized = __vectorAssembler(dataset,num_cols,'income')"
   ]
  },
  {
   "cell_type": "code",
   "execution_count": 88,
   "metadata": {},
   "outputs": [],
   "source": [
    "sample = vectorized.rdd.map(lambda x: x[0])"
   ]
  },
  {
   "cell_type": "code",
   "execution_count": null,
   "metadata": {},
   "outputs": [],
   "source": [
    "#in spark same syntex as pandas to slice df\n",
    "dataInput_min = vectorized[vectorized['label'] == 1]\n",
    "dataInput_maj = vectorized[vectorized['label'] == 0]"
   ]
  },
  {
   "cell_type": "code",
   "execution_count": 66,
   "metadata": {},
   "outputs": [],
   "source": [
    "feature = dataInput_min.select('features')"
   ]
  },
  {
   "cell_type": "code",
   "execution_count": 96,
   "metadata": {},
   "outputs": [
    {
     "name": "stdout",
     "output_type": "stream",
     "text": [
      "The hashed dataset where hashed values are stored in the column 'hashes':\n",
      "+--------------------+-----+-----------+\n",
      "|            features|label|     hashes|\n",
      "+--------------------+-----+-----------+\n",
      "|[25.0,226802.0,7....|    1|[[10174.0]]|\n",
      "|[38.0,89814.0,9.0...|    1| [[4027.0]]|\n",
      "|[18.0,103497.0,10...|    1| [[4642.0]]|\n",
      "|[34.0,198693.0,6....|    1| [[8913.0]]|\n",
      "|[29.0,227026.0,9....|    1|[[10184.0]]|\n",
      "|[24.0,369667.0,10...|    1|[[16584.0]]|\n",
      "|[55.0,104996.0,4....|    1| [[4710.0]]|\n",
      "|[36.0,212465.0,13...|    1| [[9531.0]]|\n",
      "|[26.0,82091.0,9.0...|    1| [[3681.0]]|\n",
      "|[58.0,299831.0,9....|    1|[[13451.0]]|\n",
      "|[20.0,444554.0,10...|    1|[[19945.0]]|\n",
      "|[43.0,128354.0,9....|    1| [[5757.0]]|\n",
      "|[37.0,60548.0,9.0...|    1| [[2715.0]]|\n",
      "|[34.0,238588.0,10...|    1|[[10703.0]]|\n",
      "|[72.0,132015.0,4....|    1| [[5922.0]]|\n",
      "|[25.0,220931.0,13...|    1| [[9911.0]]|\n",
      "|[25.0,205947.0,13...|    1| [[9239.0]]|\n",
      "|[22.0,236427.0,9....|    1|[[10607.0]]|\n",
      "|[23.0,134446.0,9....|    1| [[6029.0]]|\n",
      "|[54.0,99516.0,9.0...|    1| [[4463.0]]|\n",
      "+--------------------+-----+-----------+\n",
      "only showing top 20 rows\n",
      "\n"
     ]
    }
   ],
   "source": [
    "from pyspark.ml.feature import BucketedRandomProjectionLSH\n",
    "from pyspark.ml.linalg import Vectors\n",
    "from pyspark.sql.functions import col\n",
    "#fit the model of bucketedrandomprojection\n",
    "brp = BucketedRandomProjectionLSH(inputCol=\"features\", outputCol=\"hashes\",seed=12345, bucketLength=7)\n",
    "model = brp.fit(dataInput_min)\n",
    "# Feature Transformation\n",
    "print(\"The hashed dataset where hashed values are stored in the column 'hashes':\")\n",
    "model.transform(dataInput_min).show()"
   ]
  },
  {
   "cell_type": "code",
   "execution_count": 82,
   "metadata": {},
   "outputs": [
    {
     "name": "stdout",
     "output_type": "stream",
     "text": [
      "Approximately joining dfA and dfB on Euclidean distance smaller than 1.5:\n",
      "+--------------------+--------------------+-----------------+\n",
      "|            datasetA|            datasetB|EuclideanDistance|\n",
      "+--------------------+--------------------+-----------------+\n",
      "|[[39.0,182828.0,1...|[[39.0,182828.0,1...|              0.0|\n",
      "|[[30.0,182833.0,1...|[[30.0,182833.0,1...|              0.0|\n",
      "|[[48.0,246367.0,1...|[[48.0,246367.0,1...|              0.0|\n",
      "|[[47.0,46857.0,10...|[[47.0,46857.0,10...|              0.0|\n",
      "|[[36.0,73023.0,9....|[[36.0,73023.0,9....|              0.0|\n",
      "|[[42.0,125461.0,1...|[[42.0,125461.0,1...|              0.0|\n",
      "|[[22.0,126613.0,1...|[[21.0,126613.0,1...|              1.0|\n",
      "|[[42.0,335846.0,1...|[[42.0,335846.0,1...|              0.0|\n",
      "|[[26.0,40255.0,11...|[[26.0,40255.0,11...|              0.0|\n",
      "|[[38.0,194809.0,1...|[[38.0,194809.0,1...|              0.0|\n",
      "|[[64.0,201700.0,4...|[[64.0,201700.0,4...|              0.0|\n",
      "|[[30.0,340899.0,1...|[[30.0,340899.0,1...|              0.0|\n",
      "|[[39.0,158956.0,1...|[[39.0,158956.0,1...|              0.0|\n",
      "|[[32.0,178691.0,1...|[[32.0,178691.0,1...|              0.0|\n",
      "|[[35.0,179171.0,9...|[[35.0,179171.0,9...|              0.0|\n",
      "|[[18.0,298860.0,7...|[[18.0,298860.0,7...|              0.0|\n",
      "|[[28.0,215955.0,9...|[[28.0,215955.0,9...|              0.0|\n",
      "|[[74.0,216001.0,4...|[[74.0,216001.0,4...|              0.0|\n",
      "|[[37.0,224566.0,1...|[[37.0,224566.0,1...|              0.0|\n",
      "|[[63.0,445168.0,1...|[[63.0,445168.0,1...|              0.0|\n",
      "+--------------------+--------------------+-----------------+\n",
      "only showing top 20 rows\n",
      "\n"
     ]
    }
   ],
   "source": [
    "# Compute the locality sensitive hashes for the input rows, then perform approximate\n",
    "# similarity join.\n",
    "# We could avoid computing hashes by passing in the already-transformed dataset, e.g.\n",
    "# `model.approxSimilarityJoin(transformedA, transformedB, 1.5)`\n",
    "print(\"Approximately joining dfA and dfB on Euclidean distance smaller than 1.5:\")\n",
    "model.approxSimilarityJoin(vectorized, dataInput_min, 1.5, distCol=\"EuclideanDistance\").show()"
   ]
  },
  {
   "cell_type": "code",
   "execution_count": null,
   "metadata": {},
   "outputs": [],
   "source": [
    "key = Vectors.dense([1.0, 0.0])\n",
    "\n",
    "# Compute the locality sensitive hashes for the input rows, then perform approximate nearest\n",
    "# neighbor search.\n",
    "# We could avoid computing hashes by passing in the already-transformed dataset, e.g.\n",
    "# `model.approxNearestNeighbors(transformedA, key, 2)`\n",
    "\n",
    "print(\"Approximately searching dfA for 2 nearest neighbors of the key:\")\n",
    "model.approxNearestNeighbors(dfA, key, 2).show()\n",
    "\n",
    "#method 2: just use udf to wrap in the model and distributedly compute each minority sample and find their k nearnest neighbours from the original dataframe"
   ]
  },
  {
   "cell_type": "code",
   "execution_count": 205,
   "metadata": {},
   "outputs": [],
   "source": [
    "from pyspark.ml.feature import BucketedRandomProjectionLSH\n",
    "from pyspark.ml.linalg import Vectors\n",
    "from pyspark.sql.functions import col\n",
    "\n",
    "data_A = [(0, Vectors.dense([-1.0, -1.0 ]),),\n",
    "        (1, Vectors.dense([-1.0, 1.0 ]),),\n",
    "        (2, Vectors.dense([1.0, -1.0 ]),),\n",
    "        (3, Vectors.dense([1.0, 1.0]),)]\n",
    "dfA = spark.createDataFrame(data_A, [\"id\", \"features\"])\n",
    "\n",
    "data_B = [(4, Vectors.dense([2.0, 2.0 ]),),\n",
    "        (5, Vectors.dense([2.0, 3.0 ]),),\n",
    "        (6, Vectors.dense([3.0, 2.0 ]),),\n",
    "        (7, Vectors.dense([3.0, 3.0]),)]\n",
    "dfB = spark.createDataFrame(data_B, [\"id\", \"features\"])"
   ]
  },
  {
   "cell_type": "code",
   "execution_count": 206,
   "metadata": {},
   "outputs": [],
   "source": [
    "#fit the model of bucketedrandomprojection\n",
    "brp = BucketedRandomProjectionLSH(inputCol=\"features\", outputCol=\"hashes\",seed=12345, bucketLength=7)\n",
    "model = brp.fit(dfA)\n",
    "# Feature Transformation\n",
    "print(\"The hashed dataset where hashed values are stored in the column 'hashes':\")\n",
    "model.transform(dfA).show()\n",
    "\n",
    "# Compute the locality sensitive hashes for the input rows, then perform approximate\n",
    "# similarity join.\n",
    "# We could avoid computing hashes by passing in the already-transformed dataset, e.g.\n",
    "# `model.approxSimilarityJoin(transformedA, transformedB, 1.5)`\n",
    "print(\"Approximately joining dfA and dfB on Euclidean distance smaller than 1.5:\")\n",
    "model.approxSimilarityJoin(dfA, dfB, 1.5, distCol=\"EuclideanDistance\")\\\n",
    "    .select(col(\"datasetA.id\").alias(\"idA\"),\n",
    "            col(\"datasetB.id\").alias(\"idB\"),\n",
    "            col(\"EuclideanDistance\")).show()\n",
    "\n",
    "key = Vectors.dense([1.0, 0.0])\n",
    "\n",
    "# Compute the locality sensitive hashes for the input rows, then perform approximate nearest\n",
    "# neighbor search.\n",
    "# We could avoid computing hashes by passing in the already-transformed dataset, e.g.\n",
    "# `model.approxNearestNeighbors(transformedA, key, 2)`\n",
    "\n",
    "print(\"Approximately searching dfA for 2 nearest neighbors of the key:\")\n",
    "model.approxNearestNeighbors(dfA, key, 2).show()\n",
    "\n",
    "#BAD METHOD: method 1: using approxSimilarityJoin to find all similar point pairs within the given threshold euclidean distance\n",
    "#the euclidean distance will be obtained by monte-carlo method on a few points using approxNearestNeighbors and given desired nearest neighbours\n",
    "\n",
    "#method 2: just use udf to wrap in the model and distributedly compute each minority sample and find their k nearnest neighbours from the original dataframe"
   ]
  },
  {
   "cell_type": "code",
   "execution_count": 276,
   "metadata": {},
   "outputs": [],
   "source": [
    "from pyspark.ml.feature import VectorSlicer\n",
    "from pyspark.ml.linalg import Vectors\n",
    "from pyspark.sql.types import Row"
   ]
  },
  {
   "cell_type": "code",
   "execution_count": 273,
   "metadata": {},
   "outputs": [
    {
     "name": "stdout",
     "output_type": "stream",
     "text": [
      "+--------------------+--------------------+\n",
      "|        userFeatures|            features|\n",
      "+--------------------+--------------------+\n",
      "|(3,[0,1],[-2.0,2.3])|(3,[0,1],[-2.0,2.3])|\n",
      "|      [-2.0,2.3,0.0]|      [-2.0,2.3,0.0]|\n",
      "|(3,[0,1],[-2.0,2.3])|(3,[0,1],[-2.0,2.3])|\n",
      "|(3,[0,1],[-2.0,2.3])|(3,[0,1],[-2.0,2.3])|\n",
      "+--------------------+--------------------+\n",
      "\n"
     ]
    }
   ],
   "source": [
    "'''\n",
    "Row(userFeatures=Vectors.sparse(3, {0: -2.0, 1: 2.3})),\n",
    "vectors.sparse: first param shows length of this vector, then comes with a dict storing actual index-value pair\n",
    "vectors.dense: input param is a list containing all the information at all positions (thus dense)\n",
    "'''\n",
    "#VectorSlicer is a transformer that takes a feature vector and outputs a new feature vector \n",
    "#with a sub-array of the original features. It is useful for extracting features from a vector column.\n",
    "\n",
    "df = spark.createDataFrame([Row(userFeatures=Vectors.sparse(3, {0: -2.0, 1: 2.3})),\n",
    "    Row(userFeatures=Vectors.dense([-2.0, 2.3, 0.0])),\n",
    "    Row(userFeatures=Vectors.sparse(3, {0: -2.0, 1: 2.3})),\n",
    "    Row(userFeatures=Vectors.sparse(3, {0: -2.0, 1: 2.3}))])\n",
    "\n",
    "#first deal with all numerical features and then keep its length, to be used in vectorslicer \n",
    "\n",
    "slicer = VectorSlicer(inputCol=\"userFeatures\", outputCol=\"features\", indices=[0,1,2])\n",
    "\n",
    "output = slicer.transform(df)\n",
    "\n",
    "output.select(\"userFeatures\", \"features\").show()"
   ]
  },
  {
   "cell_type": "code",
   "execution_count": 112,
   "metadata": {},
   "outputs": [],
   "source": [
    "from pyspark.sql.functions import udf\n",
    "\n",
    "@udf(\"string\")\n",
    "def sum_dense_vector_udf(s):\n",
    "    return str(sum(s))\n",
    "\n",
    "@udf(\"string\")\n",
    "def __find_knn(rowin):\n",
    "    print(rowin)\n",
    "    return str(knn_df.count())\n",
    "    "
   ]
  },
  {
   "cell_type": "code",
   "execution_count": null,
   "metadata": {},
   "outputs": [],
   "source": [
    "class smote_pyspark():\n",
    "    discreteAttributes\n",
    "    continuousAttributes\n",
    "    bucketLength #length of each bucket\n",
    "    numHashTables #number of hash tables\n",
    "    sizeMultiplier #synthetics per example\n",
    "    numNearestNeighbours\n",
    "    seed\n",
    "    spark\n",
    "    "
   ]
  },
  {
   "cell_type": "code",
   "execution_count": 237,
   "metadata": {},
   "outputs": [],
   "source": [
    "from pyspark.sql.functions import array, create_map, struct\n",
    "from pyspark.ml.feature import ChiSqSelector\n",
    "from pyspark.ml.linalg import Vectors"
   ]
  },
  {
   "cell_type": "markdown",
   "metadata": {},
   "source": [
    "## Start encoding selected categorical cols"
   ]
  },
  {
   "cell_type": "code",
   "execution_count": 355,
   "metadata": {},
   "outputs": [],
   "source": [
    "import pyspark\n",
    "from pyspark.ml import Pipeline\n",
    "from pyspark.ml.feature import StringIndexer, VectorAssembler\n",
    "from distutils.version import LooseVersion\n",
    "from pyspark.ml.feature import StandardScaler,MinMaxScaler\n",
    "\n",
    "def one_hot_encode_cat_cols(sdf,cat_cols,cat_cols_affix):\n",
    "    '''\n",
    "    perform one hot encoding for cat_cols \n",
    "    input:\n",
    "    * sdf: spark df\n",
    "    * cat_cols: categorical columns\n",
    "    * stages: as a list\n",
    "    output:\n",
    "    * stages\n",
    "    '''\n",
    "    stages = [] # stages in our Pipeline\n",
    "\n",
    "    for categoricalCol in cat_cols:\n",
    "        # Category Indexing with StringIndexer, will encode to numerical according to frequency, highest frequency will be encoded to 0\n",
    "        # when applying this stringIndexer onto another dataset and encounter missing encoded value, we can throw exception or setHandleInvalid(“skip”)\n",
    "        # like indexer.fit(df1).setHandleInvalid(\"skip\").transform(df2), will remove all rows unable to encode    \n",
    "        stringIndexer = StringIndexer(inputCol=categoricalCol, outputCol=categoricalCol + \"Index\")\n",
    "\n",
    "        # Use OneHotEncoder to convert categorical variables into binary SparseVectors，\n",
    "        # binary sparse vectors like (2,[0],[1.0]) means a vector of length 2 with 1.0 at position 0 and 0 elsewhere.\n",
    "        # spark OHE will automatically drop the last category, you can force it not to drop by dropLast=False\n",
    "        # it omits the final category to break the correlation between features\n",
    "\n",
    "        if LooseVersion(pyspark.__version__) < LooseVersion(\"3.0\"):\n",
    "            from pyspark.ml.feature import OneHotEncoderEstimator\n",
    "            encoder = OneHotEncoderEstimator(inputCols=[stringIndexer.getOutputCol()], outputCols=[categoricalCol + cat_cols_affix])\n",
    "        else:\n",
    "            from pyspark.ml.feature import OneHotEncoder\n",
    "            encoder = OneHotEncoder(inputCols=[stringIndexer.getOutputCol()], outputCols=[categoricalCol + cat_cols_affix])\n",
    "        # Add stages.  These are not run here, but will run all at once later on.\n",
    "        stages += [stringIndexer, encoder]\n",
    "\n",
    "    return stages\n",
    "\n",
    "def str_index_cat_cols(sdf,cat_cols,cat_cols_affix):\n",
    "    '''\n",
    "    only to stringIndex cols (per item frequency), no encoding applied\n",
    "    input:\n",
    "        * sdf: spark df\n",
    "        * cat_cols: cat cols to be string indexed\n",
    "        * cat_cols_affix: output affix to indexed cat cols\n",
    "        * stages: input stages (from any previous stages)\n",
    "    output:\n",
    "        * stages: modified stages for spark pipeline\n",
    "    '''\n",
    "    stages = []\n",
    "    \n",
    "    for categoricalCol in cat_cols:\n",
    "        stringIndexer = StringIndexer(inputCol=categoricalCol, outputCol=categoricalCol + cat_cols_affix)\n",
    "        stages+=[stringIndexer]\n",
    "        \n",
    "    return stages\n",
    "    \n",
    "def get_cat_col_cardinality(sdf,cat_cols):\n",
    "    '''\n",
    "    generate top categories for each cat features\n",
    "    input: \n",
    "    * spark df\n",
    "    * num_cols, cat_cols: list of str\n",
    "    func is sql.functions\n",
    "    '''\n",
    "    #cat_info_dict to store index of cat feature and its cardinality, for modelling input\n",
    "    cat_info_dict = {}\n",
    "\n",
    "    print('generating cardinality map for cat cols')\n",
    "    for i, col in enumerate(cat_cols):\n",
    "        cat_info_dict[i] = sdf.select(func.countDistinct(col).alias(\"distinct_count_%s\"%col)).collect()[0][0]\n",
    "    \n",
    "    return cat_info_dict\n",
    "\n",
    "#d = get_cat_col_cardinality(dataset,cat_cols)\n",
    "\n",
    "def assemble_into_features(sdf,num_cols,cat_cols,stages,cat_cols_affix):\n",
    "    '''\n",
    "    assemble all features into vector\n",
    "    cat_cols with affix\n",
    "    num cols\n",
    "    input:\n",
    "    * processed cat cols affix\n",
    "    '''\n",
    "    # to combine all the feature columns into a single vector column. \n",
    "    # This includes both the numeric columns and the one-hot encoded binary vector columns in our dataset.\n",
    "    # Transform all features into a vector using VectorAssembler\n",
    "    \n",
    "    # keep track of num cols indices for any smote purposes, in dealing with smote on cat cols\n",
    "    num_cols_indices = list(range(len(num_cols)))\n",
    "    \n",
    "    assemblerInputs = num_cols+[c + cat_cols_affix for c in cat_cols]\n",
    "\n",
    "    #assemblerInputs stores all necessary (transformed) columns after all the stages\n",
    "    #VectorAssembler only applied to numerical or transformed categorical columns\n",
    "    assembler = VectorAssembler(inputCols=assemblerInputs, outputCol=\"features\")\n",
    "    stages += [assembler] \n",
    "\n",
    "    # then we apply scaling on the vectorized features, 2 additional params are:\n",
    "    # withStd: True by default. Scales the data to unit standard deviation.\n",
    "    # withMean: False by default. Centers the data with mean before scaling.\n",
    "    scaler = StandardScaler(inputCol=\"features\", outputCol=\"scaled_features\",withMean=True)\n",
    "    #scaler = MinMaxScaler(min=0, max=1, inputCol='features', outputCol='features_minmax')\n",
    "\n",
    "    stages += [scaler] \n",
    "    return stages"
   ]
  },
  {
   "cell_type": "code",
   "execution_count": 403,
   "metadata": {},
   "outputs": [
    {
     "name": "stdout",
     "output_type": "stream",
     "text": [
      "34294\n",
      "14548\n"
     ]
    }
   ],
   "source": [
    "### Randomly split data into training and test sets. set seed for reproducibility\n",
    "(trainingData, testData) = dataset.randomSplit([0.7, 0.3], seed=100)\n",
    "\n",
    "print(trainingData.count())\n",
    "print(testData.count())"
   ]
  },
  {
   "cell_type": "code",
   "execution_count": 421,
   "metadata": {},
   "outputs": [],
   "source": [
    "num_cols.remove(\"income\")"
   ]
  },
  {
   "cell_type": "code",
   "execution_count": 422,
   "metadata": {},
   "outputs": [],
   "source": [
    "stages = one_hot_encode_cat_cols(trainingData,cat_cols,'classVec')\n",
    "stages_2 = assemble_into_features(trainingData,num_cols,cat_cols,stages,'classVec')"
   ]
  },
  {
   "cell_type": "code",
   "execution_count": 423,
   "metadata": {},
   "outputs": [],
   "source": [
    "#having compiled the stages into a list, at execution, it will automatically sort out the sequence to perform steps in stages\n",
    "#like when .fit() is called, what should be executed...\n",
    "partialPipeline = Pipeline().setStages(stages) #type is pipeline, independent of dataframe, only using stages \n",
    "\n",
    "pipelineModel = partialPipeline.fit(trainingData) #type is pipelinemodel, use the prepared staged pipelines to fit dataframe\n",
    "\n",
    "preppedDataDF = pipelineModel.transform(trainingData) #type is stage transformed dataframe, it contains all original columns, and indexed/encoded/vector_encoded columns\n"
   ]
  },
  {
   "cell_type": "code",
   "execution_count": 424,
   "metadata": {},
   "outputs": [],
   "source": [
    "preppedDataDF = preppedDataDF.withColumnRenamed(\"income\",\"label\")"
   ]
  },
  {
   "cell_type": "code",
   "execution_count": 425,
   "metadata": {},
   "outputs": [],
   "source": [
    "preppedDataDF_test = pipelineModel.transform(testData)\n",
    "preppedDataDF_test = preppedDataDF_test.withColumnRenamed(\"income\",\"label\")"
   ]
  },
  {
   "cell_type": "code",
   "execution_count": 426,
   "metadata": {},
   "outputs": [],
   "source": [
    "# now to train on the train set\n",
    "from pyspark.ml.classification import RandomForestClassifier\n",
    "# Create an initial RandomForest model.\n",
    "rf = RandomForestClassifier(labelCol=\"label\", featuresCol=\"features\")\n",
    "# Train model with Training Data\n",
    "rfModel = rf.fit(preppedDataDF)"
   ]
  },
  {
   "cell_type": "code",
   "execution_count": 427,
   "metadata": {},
   "outputs": [],
   "source": [
    "# Make predictions on test data using the transform() method.\n",
    "# LogisticRegression.transform() will only use the 'features' column.\n",
    "predictions = rfModel.transform(preppedDataDF_test)"
   ]
  },
  {
   "cell_type": "code",
   "execution_count": 428,
   "metadata": {},
   "outputs": [
    {
     "data": {
      "text/plain": [
       "0.8883475483195341"
      ]
     },
     "execution_count": 428,
     "metadata": {},
     "output_type": "execute_result"
    }
   ],
   "source": [
    "# View model's predictions and probabilities of each prediction class\n",
    "# You can select any columns in the above schema to view as well. For example's sake we will choose age & occupation\n",
    "from pyspark.ml.evaluation import BinaryClassificationEvaluator\n",
    "# Evaluate model\n",
    "evaluator = BinaryClassificationEvaluator(rawPredictionCol=\"rawPrediction\")\n",
    "evaluator.evaluate(predictions)"
   ]
  },
  {
   "cell_type": "code",
   "execution_count": 415,
   "metadata": {},
   "outputs": [
    {
     "data": {
      "text/plain": [
       "'areaUnderROC'"
      ]
     },
     "execution_count": 415,
     "metadata": {},
     "output_type": "execute_result"
    }
   ],
   "source": [
    "evaluator.getMetricName()"
   ]
  },
  {
   "cell_type": "code",
   "execution_count": 438,
   "metadata": {},
   "outputs": [],
   "source": [
    "pandasDF = pd.DataFrame(preppedDataDF_test.schema[\"features\"].metadata[\"ml_attr\"][\"attrs\"][\"binary\"]+preppedDataDF_test.schema[\"features\"].metadata[\"ml_attr\"][\"attrs\"][\"numeric\"]).sort_values(\"idx\")"
   ]
  },
  {
   "cell_type": "code",
   "execution_count": 440,
   "metadata": {},
   "outputs": [],
   "source": [
    "feature_dict = dict(zip(pandasDF[\"idx\"],pandasDF[\"name\"])) \n",
    "\n",
    "feature_dict_broad = sc.broadcast(feature_dict)"
   ]
  },
  {
   "cell_type": "code",
   "execution_count": null,
   "metadata": {},
   "outputs": [],
   "source": []
  },
  {
   "cell_type": "code",
   "execution_count": null,
   "metadata": {},
   "outputs": [],
   "source": []
  },
  {
   "cell_type": "code",
   "execution_count": null,
   "metadata": {},
   "outputs": [],
   "source": []
  },
  {
   "cell_type": "code",
   "execution_count": 463,
   "metadata": {},
   "outputs": [],
   "source": [
    "col_importance_val = []\n",
    "for i,importance in enumerate(importances):\n",
    "    col_importance_val.append([i,importance])\n",
    "\n",
    "final_sorted_importance = sorted(col_importance_val, key=lambda x: x[1], reverse =True)"
   ]
  },
  {
   "cell_type": "code",
   "execution_count": null,
   "metadata": {},
   "outputs": [],
   "source": []
  },
  {
   "cell_type": "code",
   "execution_count": null,
   "metadata": {},
   "outputs": [],
   "source": []
  },
  {
   "cell_type": "code",
   "execution_count": null,
   "metadata": {},
   "outputs": [],
   "source": []
  },
  {
   "cell_type": "code",
   "execution_count": null,
   "metadata": {},
   "outputs": [],
   "source": []
  },
  {
   "cell_type": "code",
   "execution_count": null,
   "metadata": {},
   "outputs": [],
   "source": []
  },
  {
   "cell_type": "code",
   "execution_count": 466,
   "metadata": {},
   "outputs": [],
   "source": [
    "top_feature_index = [a[0] for a in final_sorted_importance[:15]]"
   ]
  },
  {
   "cell_type": "code",
   "execution_count": 451,
   "metadata": {},
   "outputs": [],
   "source": [
    "importances = list(np.array(rfModel.featureImportances))"
   ]
  },
  {
   "cell_type": "code",
   "execution_count": 471,
   "metadata": {},
   "outputs": [],
   "source": [
    "res = []\n",
    "for i,importance in enumerate(importances):\n",
    "    feature_nm = feature_dict[i]\n",
    "    res.append([feature_nm,importance])\n",
    "    \n",
    "sorted_important_fs = sorted(res, key=lambda x: x[1], reverse =True)"
   ]
  },
  {
   "cell_type": "code",
   "execution_count": 472,
   "metadata": {},
   "outputs": [
    {
     "data": {
      "text/plain": [
       "[['capital-gain', 0.201217469371277],\n",
       " ['marital-statusclassVec_Married-civ-spouse', 0.15443159712388252],\n",
       " ['relationshipclassVec_Husband', 0.11911024387066789],\n",
       " ['age', 0.07730764709090607],\n",
       " ['marital-statusclassVec_Never-married', 0.07389950205048239],\n",
       " ['educational-num', 0.04920952571753811],\n",
       " ['capital-loss', 0.047828913784552556],\n",
       " ['relationshipclassVec_Own-child', 0.04754274644458119],\n",
       " ['hours-per-week', 0.043788934842294014],\n",
       " ['marital-statusclassVec_Divorced', 0.03314132370536688],\n",
       " ['educationclassVec_Bachelors', 0.025637229320442646],\n",
       " ['occupationclassVec_Exec-managerial', 0.02188838857315849],\n",
       " ['genderclassVec_Male', 0.013060990281999313],\n",
       " ['relationshipclassVec_Not-in-family', 0.012697039396697418],\n",
       " ['occupationclassVec_Prof-specialty', 0.011953155283257204],\n",
       " ['relationshipclassVec_Wife', 0.010769082008577029],\n",
       " ['workclassclassVec_Self-emp-inc', 0.009334526597088786],\n",
       " ['educationclassVec_Prof-school', 0.008079062132194387],\n",
       " ['occupationclassVec_Other-service', 0.005595702234405206],\n",
       " ['educationclassVec_Doctorate', 0.005279957294253084],\n",
       " ['educationclassVec_HS-grad', 0.004833775149900854],\n",
       " ['workclassclassVec_?', 0.00405509498743862],\n",
       " ['relationshipclassVec_Unmarried', 0.00340923793130381],\n",
       " ['marital-statusclassVec_Separated', 0.0029027305901382873],\n",
       " ['occupationclassVec_Farming-fishing', 0.0024659779978712546],\n",
       " ['educationclassVec_Masters', 0.001826052139274014],\n",
       " ['occupationclassVec_?', 0.0016565011793578885],\n",
       " ['workclassclassVec_Self-emp-not-inc', 0.0010312679071668375],\n",
       " ['educationclassVec_10th', 0.0009920394496206477],\n",
       " ['raceclassVec_White', 0.0009397068633847082],\n",
       " ['occupationclassVec_Sales', 0.0006721010496009094],\n",
       " ['occupationclassVec_Adm-clerical', 0.0005787653368556428],\n",
       " ['occupationclassVec_Craft-repair', 0.0005484864648528048],\n",
       " ['workclassclassVec_Private', 0.00039696535734662364],\n",
       " ['educationclassVec_11th', 0.000333011074236243],\n",
       " ['fnlwgt', 0.00021887159337666411],\n",
       " ['workclassclassVec_Federal-gov', 0.0001850590784663431],\n",
       " ['native-countryclassVec_Philippines', 0.0001435679506149281],\n",
       " ['educationclassVec_Some-college', 0.0001334878332046556],\n",
       " ['educationclassVec_12th', 0.00010848355243432959],\n",
       " ['workclassclassVec_State-gov', 9.50173212042437e-05],\n",
       " ['educationclassVec_9th', 9.007240466642102e-05],\n",
       " ['native-countryclassVec_Italy', 7.981495485826427e-05],\n",
       " ['native-countryclassVec_Canada', 7.771522832528526e-05],\n",
       " ['raceclassVec_Asian-Pac-Islander', 4.832714700147421e-05],\n",
       " ['native-countryclassVec_China', 4.4356146015482386e-05],\n",
       " ['workclassclassVec_Local-gov', 4.219606989486059e-05],\n",
       " ['occupationclassVec_Protective-serv', 4.206042222365074e-05],\n",
       " ['occupationclassVec_Handlers-cleaners', 4.083260454751756e-05],\n",
       " ['educationclassVec_Assoc-voc', 3.534842749091974e-05],\n",
       " ['native-countryclassVec_Taiwan', 3.14438639124426e-05],\n",
       " ['native-countryclassVec_Greece', 2.8805939180111993e-05],\n",
       " ['native-countryclassVec_Cambodia', 2.722683462360774e-05],\n",
       " ['marital-statusclassVec_Widowed', 2.59926039922024e-05],\n",
       " ['educationclassVec_7th-8th', 2.1677044380208583e-05],\n",
       " ['native-countryclassVec_United-States', 1.9701144491820787e-05],\n",
       " ['workclassclassVec_Without-pay', 1.872982787417267e-05],\n",
       " ['raceclassVec_Black', 1.462514892759099e-05],\n",
       " ['native-countryclassVec_Iran', 1.1836256321471055e-05],\n",
       " ['educationclassVec_Assoc-acdm', 0.0],\n",
       " ['educationclassVec_5th-6th', 0.0],\n",
       " ['educationclassVec_1st-4th', 0.0],\n",
       " ['marital-statusclassVec_Married-spouse-absent', 0.0],\n",
       " ['occupationclassVec_Machine-op-inspct', 0.0],\n",
       " ['occupationclassVec_Transport-moving', 0.0],\n",
       " ['occupationclassVec_Tech-support', 0.0],\n",
       " ['occupationclassVec_Priv-house-serv', 0.0],\n",
       " ['raceclassVec_Amer-Indian-Eskimo', 0.0],\n",
       " ['native-countryclassVec_Mexico', 0.0],\n",
       " ['native-countryclassVec_?', 0.0],\n",
       " ['native-countryclassVec_Germany', 0.0],\n",
       " ['native-countryclassVec_Puerto-Rico', 0.0],\n",
       " ['native-countryclassVec_El-Salvador', 0.0],\n",
       " ['native-countryclassVec_India', 0.0],\n",
       " ['native-countryclassVec_England', 0.0],\n",
       " ['native-countryclassVec_Cuba', 0.0],\n",
       " ['native-countryclassVec_South', 0.0],\n",
       " ['native-countryclassVec_Jamaica', 0.0],\n",
       " ['native-countryclassVec_Japan', 0.0],\n",
       " ['native-countryclassVec_Dominican-Republic', 0.0],\n",
       " ['native-countryclassVec_Guatemala', 0.0],\n",
       " ['native-countryclassVec_Columbia', 0.0],\n",
       " ['native-countryclassVec_Poland', 0.0],\n",
       " ['native-countryclassVec_Vietnam', 0.0],\n",
       " ['native-countryclassVec_Haiti', 0.0],\n",
       " ['native-countryclassVec_Portugal', 0.0],\n",
       " ['native-countryclassVec_Ecuador', 0.0],\n",
       " ['native-countryclassVec_Nicaragua', 0.0],\n",
       " ['native-countryclassVec_Peru', 0.0],\n",
       " ['native-countryclassVec_Ireland', 0.0],\n",
       " ['native-countryclassVec_Trinadad&Tobago', 0.0],\n",
       " ['native-countryclassVec_France', 0.0],\n",
       " ['native-countryclassVec_Thailand', 0.0],\n",
       " ['native-countryclassVec_Hong', 0.0],\n",
       " ['native-countryclassVec_Laos', 0.0],\n",
       " ['native-countryclassVec_Yugoslavia', 0.0],\n",
       " ['native-countryclassVec_Scotland', 0.0],\n",
       " ['native-countryclassVec_Outlying-US(Guam-USVI-etc)', 0.0],\n",
       " ['native-countryclassVec_Hungary', 0.0],\n",
       " ['native-countryclassVec_Honduras', 0.0]]"
      ]
     },
     "execution_count": 472,
     "metadata": {},
     "output_type": "execute_result"
    }
   ],
   "source": [
    "sorted_important_fs"
   ]
  },
  {
   "cell_type": "code",
   "execution_count": 368,
   "metadata": {},
   "outputs": [],
   "source": [
    "# Doing cross validation and params tuning\n",
    "\n",
    "from pyspark.ml.tuning import ParamGridBuilder, CrossValidator\n",
    "from pyspark.ml.tuning import ParamGridBuilder, CrossValidator\n",
    "\n",
    "paramGrid = (ParamGridBuilder()\n",
    "             .addGrid(rf.maxDepth, [2, 4, 6])\n",
    "             .addGrid(rf.maxBins, [20, 60])\n",
    "             .addGrid(rf.numTrees, [5, 20])\n",
    "             .build())\n",
    "# paramGrid contains 3*2*2 = 12 models\n",
    "# cv is 5 folds, so total 60 models are searched\n",
    "\n",
    "# Create 5-fold CrossValidator, input is an estimator (rf classifier e.g.)\n",
    "cv = CrossValidator(estimator=rf, estimatorParamMaps=paramGrid, evaluator=evaluator, numFolds=5)\n",
    "# Run cross validations\n",
    "cvModel = cv.fit(trainingData)\n",
    "# this will likely take a fair amount of time because of the amount of models that we're creating and testing"
   ]
  },
  {
   "cell_type": "code",
   "execution_count": 369,
   "metadata": {},
   "outputs": [],
   "source": [
    "# Use test set to measure the accuracy of our model on new data\n",
    "predictions = cvModel.transform(testData)"
   ]
  },
  {
   "cell_type": "code",
   "execution_count": 370,
   "metadata": {},
   "outputs": [
    {
     "data": {
      "text/plain": [
       "0.8999505914844388"
      ]
     },
     "execution_count": 370,
     "metadata": {},
     "output_type": "execute_result"
    }
   ],
   "source": [
    "# cvModel uses the best model found from the Cross Validation\n",
    "# Evaluate best model\n",
    "evaluator.evaluate(predictions)"
   ]
  },
  {
   "cell_type": "code",
   "execution_count": 202,
   "metadata": {},
   "outputs": [],
   "source": [
    "# vector assembler can have inputs as: numeric,bool,vector\n",
    "# output will be a flattened vector (even if input could have vector)"
   ]
  },
  {
   "cell_type": "code",
   "execution_count": 371,
   "metadata": {},
   "outputs": [],
   "source": [
    "bestModel = cvModel.bestModel"
   ]
  },
  {
   "cell_type": "code",
   "execution_count": 372,
   "metadata": {},
   "outputs": [],
   "source": [
    "# Generate predictions for entire dataset\n",
    "finalPredictions = bestModel.transform(dataset)\n",
    "# Evaluate best model\n",
    "evaluator.evaluate(finalPredictions)"
   ]
  },
  {
   "cell_type": "code",
   "execution_count": null,
   "metadata": {},
   "outputs": [],
   "source": []
  },
  {
   "cell_type": "code",
   "execution_count": null,
   "metadata": {},
   "outputs": [],
   "source": []
  },
  {
   "cell_type": "code",
   "execution_count": null,
   "metadata": {},
   "outputs": [],
   "source": []
  }
 ],
 "metadata": {
  "kernelspec": {
   "display_name": "Python 3",
   "language": "python",
   "name": "python3"
  },
  "language_info": {
   "codemirror_mode": {
    "name": "ipython",
    "version": 3
   },
   "file_extension": ".py",
   "mimetype": "text/x-python",
   "name": "python",
   "nbconvert_exporter": "python",
   "pygments_lexer": "ipython3",
   "version": "3.7.6"
  }
 },
 "nbformat": 4,
 "nbformat_minor": 4
}
