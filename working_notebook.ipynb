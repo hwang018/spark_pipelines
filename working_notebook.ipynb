{
 "cells": [
  {
   "cell_type": "markdown",
   "metadata": {},
   "source": [
    "# General pipeline for binary classification tasks in spark ml\n",
    "\n",
    "$\\color{blue}{\\text{Covering major components in real life scenarios for binary classification tasks using structured datasets.}}$\n",
    "\n",
    "Modelling and data transformation part will be mostly operated in pure spark, but exploration and plotting metrics may involve pandas components.\n",
    "\n",
    "The toolkits are in the lib/ folder, covering following topics:\n",
    "\n",
    "0. summary on transformer, estimators, pipelines\n",
    "1. spark and pandas dataframe conversion, tips in converting datatypes and assign correct schema\n",
    "2. typical udf to transform columns\n",
    "3. explorative analysis on spark df\n",
    "4. categorical variables encoding methods, some advanced types of encoding implemented\n",
    "5. feature selection methods in spark ml, selection based on model, lasso...\n",
    "6. handling skewed datasets and highly imbalanced labels (up/down sampling) SMOTE in spark\n",
    "7. modelling toolkits, contains common classifiers and their tuning guidance, use of xgboost in spark\n",
    "8. metrics plotting tools, to plot common metrics after training"
   ]
  },
  {
   "cell_type": "markdown",
   "metadata": {},
   "source": [
    "### Spark ml structure:\n",
    "Key components:\n",
    "1. Transformer\n",
    "2. Estimator\n",
    "3. Pipeline\n",
    "\n",
    "$\\textbf{Transformer}$ can transform one df into another df by appending new columns onto original df. E.g., an ML model is a Transformer which transforms a DataFrame with features into a DataFrame with predictions. It has .transform() method, normally taking df as input. Transformers can be trained models, trained encoders.\n",
    "\n",
    "$\\textbf{Estimator}$ is an algorithm to be fit on a df to produce a Transformer. E.g., a learning algorithm is an Estimator which trains on a df and produces a model; if we specify a One-hot-encoder, it is an estimarot object, we need to .fit() it onto a column and obtain a transformer. Output of fitted/trained estimator is transformer.\n",
    "\n",
    "$\\textbf{Pipeline}$ chains multiple Transformers and Estimators together to specify an ML workflow. When executing the pipeline, spark will automatically sort out the steps to execute, depending on whether you called a .fit() or .transform() method. A Pipeline is specified as a sequence of stages, and each stage is either a Transformer or an Estimator. These stages are run in order, and the input DataFrame is transformed as it passes through each stage. For Transformer stages, the transform() method is called on the DataFrame. For Estimator stages, the fit() method is called to produce a Transformer (which becomes part of the PipelineModel, or fitted Pipeline). Pipeline is an estimator, after calling pipeline.fit() method, the output will be PipelineModel, a transformer ready to apply .transform() at test time."
   ]
  },
  {
   "cell_type": "code",
   "execution_count": 4,
   "metadata": {},
   "outputs": [],
   "source": [
    "import os\n",
    "import random\n",
    "import pandas as pd\n",
    "pd.options.display.max_columns=None\n",
    "pd.options.display.max_rows=None\n",
    "\n",
    "#import toolkits\n",
    "from lib import util\n",
    "from lib import logger\n",
    "\n",
    "def initialize_spark(app_name='spark_pipeline'):\n",
    "    import findspark\n",
    "    #spark path using default value\n",
    "    findspark.init()\n",
    "\n",
    "    import pyspark\n",
    "    import pyarrow\n",
    "    from pyspark.sql import SQLContext\n",
    "    \n",
    "    #broadcastTimeout is purposedly set to be large due to development on single machine\n",
    "    conf = pyspark.SparkConf()\\\n",
    "        .setAppName(app_name)\\\n",
    "        .setMaster('local')\\\n",
    "        .set('spark.driver.memory', '8g')\\\n",
    "        .set('spark.executor.memory', '8g')\\\n",
    "        .set('spark.executor.instances', 4)\\\n",
    "        .set('spark.executor.cores', 4)\\\n",
    "        .set('spark.driver.maxResultSize', '8g')\\\n",
    "        .set('spark.sql.shuffle.partitions', 100)\\\n",
    "        .set('spark.default.parallelism', 200)\\\n",
    "        .set('spark.sql.broadcastTimeout', 36000)\\\n",
    "        .set('spark.kryoserializer.buffer.max', '1024m')\\\n",
    "        .set('spark.sql.execution.arrow.enabled', 'false')\\\n",
    "        .set('spark.dynamicAllocation.enabled', \"False\")\\\n",
    "        .set('spark.port.maxRetries',30) \n",
    "\n",
    "    sc = pyspark.SparkContext.getOrCreate(conf)\n",
    "    spark = pyspark.sql.SparkSession(sc)\n",
    "    sqlContext = SQLContext.getOrCreate(sc)    \n",
    "    return sc,spark,sqlContext\n",
    "\n",
    "from pyspark.ml import Pipeline\n",
    "from pyspark.ml.feature import StandardScaler\n",
    "from pyspark.ml.feature import VectorAssembler\n",
    "from pyspark.ml.feature import StringIndexer, VectorAssembler\n",
    "from pyspark.ml.feature import OneHotEncoderEstimator, StringIndexer, VectorAssembler\n",
    "from pyspark.sql.types import IntegerType\n",
    "from pyspark.sql.functions import when, lit\n",
    "from distutils.version import LooseVersion\n",
    "from importlib import reload\n",
    "import pyspark.sql.functions as func\n",
    "import pyspark.sql.types as typ"
   ]
  },
  {
   "cell_type": "code",
   "execution_count": 2,
   "metadata": {},
   "outputs": [],
   "source": [
    "sc,spark,sqlContext = initialize_spark()"
   ]
  },
  {
   "cell_type": "markdown",
   "metadata": {},
   "source": [
    "## Loading data into spark dataframe"
   ]
  },
  {
   "cell_type": "code",
   "execution_count": 6,
   "metadata": {},
   "outputs": [],
   "source": [
    "df = pd.read_csv('datasets/adult.csv')\n",
    "# if directly using spark.read.csv('datasets/adult.csv',header=True), unless we specify schema manually,\n",
    "# all columns will be interpreted as string type, troublesome for later process\n",
    "dataset = util.pandas_to_spark(sqlContext,df)\n",
    "dataset = dataset.withColumn('income', when(dataset.income=='<=50K', lit(0)).otherwise(1))\n",
    "cols = dataset.columns"
   ]
  },
  {
   "cell_type": "code",
   "execution_count": null,
   "metadata": {},
   "outputs": [],
   "source": []
  },
  {
   "cell_type": "markdown",
   "metadata": {},
   "source": [
    "### 1. Random downsampling"
   ]
  },
  {
   "cell_type": "code",
   "execution_count": 23,
   "metadata": {},
   "outputs": [
    {
     "data": {
      "text/plain": [
       "<module 'lib.imbalance_handler' from '/Users/hwang/Desktop/spark_pipelines/lib/imbalance_handler.py'>"
      ]
     },
     "execution_count": 23,
     "metadata": {},
     "output_type": "execute_result"
    }
   ],
   "source": [
    "from lib import imbalance_handler as imbalance_handle\n",
    "import lib.feature_selection as fs\n",
    "reload(fs)\n",
    "reload(imbalance_handle)"
   ]
  },
  {
   "cell_type": "code",
   "execution_count": null,
   "metadata": {},
   "outputs": [],
   "source": [
    "down_sampled_df = imbalance_handle.spark_df_down_sampling(dataset, 2, 'income', major_class_val = 0)"
   ]
  },
  {
   "cell_type": "code",
   "execution_count": 10,
   "metadata": {},
   "outputs": [
    {
     "data": {
      "text/plain": [
       "0    23373\n",
       "1    11687\n",
       "Name: income, dtype: int64"
      ]
     },
     "execution_count": 10,
     "metadata": {},
     "output_type": "execute_result"
    }
   ],
   "source": [
    "down_sampled_df.select('income').toPandas().income.value_counts()"
   ]
  },
  {
   "cell_type": "code",
   "execution_count": 67,
   "metadata": {},
   "outputs": [
    {
     "name": "stdout",
     "output_type": "stream",
     "text": [
      "All columns are been covered.\n"
     ]
    }
   ],
   "source": [
    "# get num_cols and cat_cols from spark df\n",
    "num_cols, cat_cols = util.get_num_cat_feat(dataset)"
   ]
  },
  {
   "cell_type": "code",
   "execution_count": 14,
   "metadata": {},
   "outputs": [],
   "source": [
    "min_cat = 2\n",
    "max_cat = 20"
   ]
  },
  {
   "cell_type": "code",
   "execution_count": 14,
   "metadata": {},
   "outputs": [
    {
     "name": "stdout",
     "output_type": "stream",
     "text": [
      "Start the count computation for categorical features...\n",
      "The no. of categorical features: 8\n"
     ]
    }
   ],
   "source": [
    "cat_coverage_df,no_info_col,cols_high_cardinality = fs.cat_col_cardinality_test(dataset,cat_cols,min_cat,max_cat)"
   ]
  },
  {
   "cell_type": "code",
   "execution_count": 41,
   "metadata": {},
   "outputs": [
    {
     "data": {
      "text/plain": [
       "['capital-loss', 'capital-gain', 'income', 'educational-num', 'hours-per-week']"
      ]
     },
     "execution_count": 41,
     "metadata": {},
     "output_type": "execute_result"
    }
   ],
   "source": [
    "# find highly correlated columns\n",
    "fs.num_cols_correlation_test(dataset,num_cols,0.1)"
   ]
  },
  {
   "cell_type": "markdown",
   "metadata": {},
   "source": [
    "### 2. Smote, encoding, preprocessing, normalization should happen before smote"
   ]
  },
  {
   "cell_type": "code",
   "execution_count": 16,
   "metadata": {},
   "outputs": [],
   "source": [
    "from config.conf_template import Struct as Section"
   ]
  },
  {
   "cell_type": "code",
   "execution_count": 17,
   "metadata": {},
   "outputs": [],
   "source": [
    "conf = Section(\"smote_config\")\n",
    "conf.seed = 48\n",
    "conf.bucketLength = 100\n",
    "conf.k = 4\n",
    "conf.multiplier = 3"
   ]
  },
  {
   "cell_type": "code",
   "execution_count": 24,
   "metadata": {},
   "outputs": [],
   "source": [
    "vectorized = imbalance_handle.pre_smote_df_process(dataset,num_cols,cat_cols,'income')\n",
    "res = imbalance_handle.smote(vectorized,conf)"
   ]
  },
  {
   "cell_type": "code",
   "execution_count": 32,
   "metadata": {},
   "outputs": [
    {
     "data": {
      "text/plain": [
       "DataFrame[features: vector, workclass_index: double, native-country_index: double, marital-status_index: double, gender_index: double, race_index: double, relationship_index: double, education_index: double, occupation_index: double, label: int]"
      ]
     },
     "execution_count": 32,
     "metadata": {},
     "output_type": "execute_result"
    }
   ],
   "source": [
    "res.persist()\n",
    "res.cache()"
   ]
  },
  {
   "cell_type": "markdown",
   "metadata": {},
   "source": [
    "## Start encoding selected categorical cols"
   ]
  },
  {
   "cell_type": "code",
   "execution_count": 75,
   "metadata": {},
   "outputs": [],
   "source": [
    "import pyspark\n",
    "from pyspark.ml import Pipeline\n",
    "from pyspark.ml.feature import StringIndexer, VectorAssembler\n",
    "from distutils.version import LooseVersion\n",
    "from pyspark.ml.feature import StandardScaler,MinMaxScaler\n",
    "\n",
    "def one_hot_encode_cat_cols(sdf,cat_cols,cat_cols_affix):\n",
    "    '''\n",
    "    perform one hot encoding for cat_cols \n",
    "    input:\n",
    "    * sdf: spark df\n",
    "    * cat_cols: categorical columns\n",
    "    * stages: as a list\n",
    "    output:\n",
    "    * stages\n",
    "    '''\n",
    "    stages = [] # stages in our Pipeline\n",
    "\n",
    "    for categoricalCol in cat_cols:\n",
    "        # Category Indexing with StringIndexer, will encode to numerical according to frequency, highest frequency will be encoded to 0\n",
    "        # when applying this stringIndexer onto another dataset and encounter missing encoded value, we can throw exception or setHandleInvalid(“skip”)\n",
    "        # like indexer.fit(df1).setHandleInvalid(\"skip\").transform(df2), will remove all rows unable to encode    \n",
    "        # no indexing applied\n",
    "        # stringIndexer = StringIndexer(inputCol=categoricalCol, outputCol=categoricalCol + \"Index\")\n",
    "\n",
    "        # Use OneHotEncoder to convert categorical variables into binary SparseVectors，\n",
    "        # binary sparse vectors like (2,[0],[1.0]) means a vector of length 2 with 1.0 at position 0 and 0 elsewhere.\n",
    "        # spark OHE will automatically drop the last category, you can force it not to drop by dropLast=False\n",
    "        # it omits the final category to break the correlation between features\n",
    "\n",
    "        if LooseVersion(pyspark.__version__) < LooseVersion(\"3.0\"):\n",
    "            from pyspark.ml.feature import OneHotEncoderEstimator\n",
    "            encoder = OneHotEncoderEstimator(inputCols=[categoricalCol], outputCols=[categoricalCol + cat_cols_affix])\n",
    "        else:\n",
    "            from pyspark.ml.feature import OneHotEncoder\n",
    "            encoder = OneHotEncoder(inputCols=[categoricalCol], outputCols=[categoricalCol + cat_cols_affix])\n",
    "        # Add stages.  These are not run here, but will run all at once later on.\n",
    "        stages += [encoder]\n",
    "\n",
    "    return stages\n",
    "\n",
    "def str_index_cat_cols(sdf,cat_cols,cat_cols_affix):\n",
    "    '''\n",
    "    only to stringIndex cols (per item frequency), no encoding applied\n",
    "    input:\n",
    "        * sdf: spark df\n",
    "        * cat_cols: cat cols to be string indexed\n",
    "        * cat_cols_affix: output affix to indexed cat cols\n",
    "        * stages: input stages (from any previous stages)\n",
    "    output:\n",
    "        * stages: modified stages for spark pipeline\n",
    "    '''\n",
    "    stages = []\n",
    "    \n",
    "    for categoricalCol in cat_cols:\n",
    "        stringIndexer = StringIndexer(inputCol=categoricalCol, outputCol=categoricalCol + cat_cols_affix)\n",
    "        stages+=[stringIndexer]\n",
    "        \n",
    "    return stages\n",
    "    \n",
    "def get_cat_col_cardinality(sdf,cat_cols):\n",
    "    '''\n",
    "    generate top categories for each cat features\n",
    "    input: \n",
    "    * spark df\n",
    "    * num_cols, cat_cols: list of str\n",
    "    func is sql.functions\n",
    "    '''\n",
    "    #cat_info_dict to store index of cat feature and its cardinality, for modelling input\n",
    "    cat_info_dict = {}\n",
    "\n",
    "    print('generating cardinality map for cat cols')\n",
    "    for i, col in enumerate(cat_cols):\n",
    "        cat_info_dict[i] = sdf.select(func.countDistinct(col).alias(\"distinct_count_%s\"%col)).collect()[0][0]\n",
    "    \n",
    "    return cat_info_dict\n",
    "\n",
    "#d = get_cat_col_cardinality(dataset,cat_cols)\n",
    "\n",
    "def assemble_into_features(sdf,num_cols,cat_cols,stages,cat_cols_affix):\n",
    "    '''\n",
    "    assemble all features into vector\n",
    "    cat_cols with affix\n",
    "    num cols\n",
    "    input:\n",
    "    * processed cat cols affix\n",
    "    '''\n",
    "    # to combine all the feature columns into a single vector column. \n",
    "    # This includes both the numeric columns and the one-hot encoded binary vector columns in our dataset.\n",
    "    # Transform all features into a vector using VectorAssembler\n",
    "    \n",
    "    # keep track of num cols indices for any smote purposes, in dealing with smote on cat cols\n",
    "    num_cols_indices = list(range(len(num_cols)))\n",
    "    \n",
    "    assemblerInputs = num_cols+[c + cat_cols_affix for c in cat_cols]\n",
    "    #assemblerInputs stores all necessary (transformed) columns after all the stages\n",
    "    #VectorAssembler only applied to numerical or transformed categorical columns\n",
    "    assembler = VectorAssembler(inputCols=assemblerInputs, outputCol=\"features\")\n",
    "    stages += [assembler] \n",
    "\n",
    "    # then we apply scaling on the vectorized features, 2 additional params are:\n",
    "    # withStd: True by default. Scales the data to unit standard deviation.\n",
    "    # withMean: False by default. Centers the data with mean before scaling.\n",
    "    scaler = StandardScaler(inputCol=\"features\", outputCol=\"scaled_features\",withMean=True)\n",
    "    #scaler = MinMaxScaler(min=0, max=1, inputCol='features', outputCol='features_minmax')\n",
    "\n",
    "    stages += [scaler] \n",
    "    return stages"
   ]
  },
  {
   "cell_type": "code",
   "execution_count": 101,
   "metadata": {},
   "outputs": [],
   "source": [
    "from pyspark.sql.functions import udf, col\n",
    "from pyspark.sql.types import ArrayType, DoubleType\n",
    "\n",
    "def to_array(col):\n",
    "    def to_array_(v):\n",
    "        return v.toArray().tolist()\n",
    "    # Important: asNondeterministic requires Spark 2.3 or later\n",
    "    # It can be safely removed i.e.\n",
    "    # return udf(to_array_, ArrayType(DoubleType()))(col)\n",
    "    # but at the cost of decreased performance\n",
    "    return udf(to_array_, ArrayType(DoubleType())).asNondeterministic()(col)\n"
   ]
  },
  {
   "cell_type": "code",
   "execution_count": null,
   "metadata": {},
   "outputs": [],
   "source": [
    "res.withColumn(\"xs\", to_array(col(\"features\"))).select([\"label\"] + [col(\"xs\")[i] for i in range(3)]).show()\n",
    "\n"
   ]
  },
  {
   "cell_type": "code",
   "execution_count": 69,
   "metadata": {},
   "outputs": [
    {
     "name": "stdout",
     "output_type": "stream",
     "text": [
      "+--------------------+---------------+--------------------+--------------------+------------+----------+------------------+---------------+----------------+-----+\n",
      "|            features|workclass_index|native-country_index|marital-status_index|gender_index|race_index|relationship_index|education_index|occupation_index|label|\n",
      "+--------------------+---------------+--------------------+--------------------+------------+----------+------------------+---------------+----------------+-----+\n",
      "|[31.2976580921015...|            0.0|                 2.0|                 2.0|         0.0|       0.0|               0.0|            1.0|            11.0|    1|\n",
      "|[82.7941437570787...|            0.0|                 0.0|                 0.0|         0.0|       0.0|               0.0|            2.0|             1.0|    1|\n",
      "|[36.9620274536640...|            0.0|                 0.0|                 0.0|         0.0|       0.0|               0.0|            2.0|             4.0|    1|\n",
      "|[36.0586079244199...|            0.0|                 0.0|                 0.0|         0.0|       0.0|               0.0|            0.0|             2.0|    1|\n",
      "|[31.7635276893999...|            0.0|                 0.0|                 0.0|         0.0|       0.0|               0.0|            0.0|             4.0|    1|\n",
      "|[32.2826181674023...|            0.0|                 0.0|                 0.0|         0.0|       0.0|               0.0|            0.0|             4.0|    1|\n",
      "|[8.89336299813596...|            0.0|                10.0|                 0.0|         1.0|       0.0|               0.0|            2.0|             1.0|    1|\n",
      "|[46.3938629127753...|            0.0|                 0.0|                 2.0|         1.0|       0.0|               0.0|            2.0|             1.0|    1|\n",
      "|[57.1243234366477...|            0.0|                 0.0|                 0.0|         0.0|       0.0|               0.0|            2.0|             1.0|    1|\n",
      "|[27.2091137667179...|            0.0|                 0.0|                 0.0|         0.0|       0.0|               0.0|            2.0|             1.0|    1|\n",
      "|[41.0946899702615...|            0.0|                 0.0|                 0.0|         0.0|       0.0|               0.0|            0.0|             2.0|    1|\n",
      "|[76.5409391643555...|            0.0|                22.0|                 0.0|         0.0|       0.0|               0.0|            3.0|             0.0|    1|\n",
      "|[37.3364988463945...|            0.0|                 0.0|                 0.0|         0.0|       0.0|               0.0|            3.0|             1.0|    1|\n",
      "|[40.6239108268249...|            0.0|                 0.0|                 0.0|         0.0|       0.0|               0.0|            2.0|             1.0|    1|\n",
      "|[38.0,95306.81522...|            0.0|                 0.0|                 0.0|         0.0|       0.0|               0.0|            0.0|             3.0|    1|\n",
      "|[42.2028482396617...|            0.0|                 0.0|                 0.0|         0.0|       0.0|               0.0|            3.0|             1.0|    1|\n",
      "|[46.1877014778161...|            0.0|                 0.0|                 0.0|         0.0|       0.0|               0.0|            2.0|             1.0|    1|\n",
      "|[55.5735233748637...|            0.0|                 0.0|                 3.0|         0.0|       0.0|               0.0|            0.0|             1.0|    1|\n",
      "|[31.5485322483511...|            0.0|                 0.0|                 0.0|         0.0|       0.0|               0.0|            1.0|             8.0|    1|\n",
      "|[68.2984302833804...|            0.0|                 0.0|                 0.0|         0.0|       0.0|               0.0|            6.0|            11.0|    1|\n",
      "+--------------------+---------------+--------------------+--------------------+------------+----------+------------------+---------------+----------------+-----+\n",
      "only showing top 20 rows\n",
      "\n"
     ]
    }
   ],
   "source": [
    "res.show()"
   ]
  },
  {
   "cell_type": "code",
   "execution_count": 73,
   "metadata": {},
   "outputs": [],
   "source": [
    "new_cat_cols = ['workclass_index','native-country_index','marital-status_index',\n",
    "'gender_index','race_index','relationship_index','education_index','occupation_index']"
   ]
  },
  {
   "cell_type": "code",
   "execution_count": null,
   "metadata": {},
   "outputs": [],
   "source": []
  },
  {
   "cell_type": "code",
   "execution_count": 76,
   "metadata": {},
   "outputs": [],
   "source": [
    "stages = one_hot_encode_cat_cols(res,cat_cols_smoted,'classVec')"
   ]
  },
  {
   "cell_type": "code",
   "execution_count": 81,
   "metadata": {},
   "outputs": [],
   "source": [
    "encoded_outcols = [a+'classVec' for a in new_cat_cols]"
   ]
  },
  {
   "cell_type": "code",
   "execution_count": 82,
   "metadata": {},
   "outputs": [
    {
     "data": {
      "text/plain": [
       "['workclass_indexclassVec',\n",
       " 'native-country_indexclassVec',\n",
       " 'marital-status_indexclassVec',\n",
       " 'gender_indexclassVec',\n",
       " 'race_indexclassVec',\n",
       " 'relationship_indexclassVec',\n",
       " 'education_indexclassVec',\n",
       " 'occupation_indexclassVec']"
      ]
     },
     "execution_count": 82,
     "metadata": {},
     "output_type": "execute_result"
    }
   ],
   "source": [
    "encoded_outcols"
   ]
  },
  {
   "cell_type": "code",
   "execution_count": 83,
   "metadata": {},
   "outputs": [],
   "source": [
    "assemblerInputs = ['features']+encoded_outcols\n",
    "#assemblerInputs stores all necessary (transformed) columns after all the stages\n",
    "#VectorAssembler only applied to numerical or transformed categorical columns\n",
    "assembler = VectorAssembler(inputCols=assemblerInputs, outputCol=\"all_features\")\n",
    "stages += [assembler] \n",
    "\n"
   ]
  },
  {
   "cell_type": "code",
   "execution_count": 35,
   "metadata": {},
   "outputs": [
    {
     "name": "stdout",
     "output_type": "stream",
     "text": [
      "34294\n",
      "14548\n"
     ]
    }
   ],
   "source": [
    "trainingData, testData = dataset.randomSplit([0.7, 0.3], seed=100)\n",
    "\n",
    "print(trainingData.count())\n",
    "print(testData.count())"
   ]
  },
  {
   "cell_type": "code",
   "execution_count": 39,
   "metadata": {},
   "outputs": [
    {
     "name": "stdout",
     "output_type": "stream",
     "text": [
      "generating batch 0 of synthetic instances\n",
      "generating batch 1 of synthetic instances\n",
      "generating batch 2 of synthetic instances\n"
     ]
    }
   ],
   "source": [
    "vectorized = imbalance_handle.pre_smote_df_process(trainingData,num_cols,cat_cols,'income')\n",
    "res = imbalance_handle.smote(vectorized,conf)"
   ]
  },
  {
   "cell_type": "code",
   "execution_count": null,
   "metadata": {},
   "outputs": [],
   "source": []
  },
  {
   "cell_type": "code",
   "execution_count": 49,
   "metadata": {},
   "outputs": [],
   "source": [
    "cat_cols_smoted = [a+'_index' for a in cat_cols]"
   ]
  },
  {
   "cell_type": "code",
   "execution_count": null,
   "metadata": {},
   "outputs": [],
   "source": []
  },
  {
   "cell_type": "code",
   "execution_count": 58,
   "metadata": {},
   "outputs": [],
   "source": []
  },
  {
   "cell_type": "code",
   "execution_count": null,
   "metadata": {},
   "outputs": [],
   "source": []
  },
  {
   "cell_type": "code",
   "execution_count": 54,
   "metadata": {},
   "outputs": [],
   "source": []
  },
  {
   "cell_type": "code",
   "execution_count": 84,
   "metadata": {},
   "outputs": [],
   "source": [
    "#having compiled the stages into a list, at execution, it will automatically sort out the sequence to perform steps in stages\n",
    "#like when .fit() is called, what should be executed...\n",
    "partialPipeline = Pipeline().setStages(stages) #type is pipeline, independent of dataframe, only using stages \n",
    "pipelineModel = partialPipeline.fit(res) #type is pipelinemodel, use the prepared staged pipelines to fit dataframe\n",
    "preppedDataDF = pipelineModel.transform(res) #type is stage transformed dataframe, it contains all original columns, and indexed/encoded/vector_encoded columns"
   ]
  },
  {
   "cell_type": "code",
   "execution_count": null,
   "metadata": {},
   "outputs": [],
   "source": []
  },
  {
   "cell_type": "code",
   "execution_count": 95,
   "metadata": {},
   "outputs": [
    {
     "name": "stdout",
     "output_type": "stream",
     "text": [
      "+--------------------+---------------+--------------------+--------------------+------------+----------+------------------+---------------+----------------+-----+-----------------------+-----------------------+----------------------------+------------------------+--------------------------+------------------+--------------------+----------------------------+--------------------+\n",
      "|            features|workclass_index|native-country_index|marital-status_index|gender_index|race_index|relationship_index|education_index|occupation_index|label|workclass_indexclassVec|education_indexclassVec|marital-status_indexclassVec|occupation_indexclassVec|relationship_indexclassVec|race_indexclassVec|gender_indexclassVec|native-country_indexclassVec|        all_features|\n",
      "+--------------------+---------------+--------------------+--------------------+------------+----------+------------------+---------------+----------------+-----+-----------------------+-----------------------+----------------------------+------------------------+--------------------------+------------------+--------------------+----------------------------+--------------------+\n",
      "|[23.8596771204752...|            0.0|                 2.0|                 2.0|         0.0|       0.0|               0.0|            1.0|            11.0|    1|          (8,[0],[1.0])|         (15,[1],[1.0])|               (6,[2],[1.0])|         (14,[11],[1.0])|             (5,[0],[1.0])|     (4,[0],[1.0])|       (1,[0],[1.0])|              (41,[2],[1.0])|(100,[0,1,2,5,6,1...|\n",
      "|[82.5164404245867...|            0.0|                 0.0|                 0.0|         0.0|       0.0|               0.0|            2.0|             1.0|    1|          (8,[0],[1.0])|         (15,[2],[1.0])|               (6,[0],[1.0])|          (14,[1],[1.0])|             (5,[0],[1.0])|     (4,[0],[1.0])|       (1,[0],[1.0])|              (41,[0],[1.0])|(100,[0,1,2,5,6,1...|\n",
      "|[39.6441047514445...|            0.0|                 0.0|                 0.0|         0.0|       0.0|               0.0|            2.0|             4.0|    1|          (8,[0],[1.0])|         (15,[2],[1.0])|               (6,[0],[1.0])|          (14,[4],[1.0])|             (5,[0],[1.0])|     (4,[0],[1.0])|       (1,[0],[1.0])|              (41,[0],[1.0])|(100,[0,1,2,4,5,6...|\n",
      "|[37.6964524209660...|            0.0|                 0.0|                 0.0|         0.0|       0.0|               0.0|            0.0|             2.0|    1|          (8,[0],[1.0])|         (15,[0],[1.0])|               (6,[0],[1.0])|          (14,[2],[1.0])|             (5,[0],[1.0])|     (4,[0],[1.0])|       (1,[0],[1.0])|              (41,[0],[1.0])|(100,[0,1,2,5,6,1...|\n",
      "|[31.6872389899775...|            0.0|                 0.0|                 0.0|         0.0|       0.0|               0.0|            0.0|             4.0|    1|          (8,[0],[1.0])|         (15,[0],[1.0])|               (6,[0],[1.0])|          (14,[4],[1.0])|             (5,[0],[1.0])|     (4,[0],[1.0])|       (1,[0],[1.0])|              (41,[0],[1.0])|(100,[0,1,2,3,5,6...|\n",
      "|[28.1920770015365...|            0.0|                 0.0|                 0.0|         0.0|       0.0|               0.0|            0.0|             4.0|    1|          (8,[0],[1.0])|         (15,[0],[1.0])|               (6,[0],[1.0])|          (14,[4],[1.0])|             (5,[0],[1.0])|     (4,[0],[1.0])|       (1,[0],[1.0])|              (41,[0],[1.0])|(100,[0,1,2,5,6,1...|\n",
      "|[27.8141828622068...|            0.0|                10.0|                 0.0|         1.0|       0.0|               0.0|            2.0|             1.0|    1|          (8,[0],[1.0])|         (15,[2],[1.0])|               (6,[0],[1.0])|          (14,[1],[1.0])|             (5,[0],[1.0])|     (4,[0],[1.0])|           (1,[],[])|             (41,[10],[1.0])|(100,[0,1,2,5,6,2...|\n",
      "|[42.3375400744926...|            0.0|                 0.0|                 2.0|         1.0|       0.0|               0.0|            2.0|             1.0|    1|          (8,[0],[1.0])|         (15,[2],[1.0])|               (6,[2],[1.0])|          (14,[1],[1.0])|             (5,[0],[1.0])|     (4,[0],[1.0])|           (1,[],[])|              (41,[0],[1.0])|(100,[0,1,2,5,6,1...|\n",
      "|[57.1871585277616...|            0.0|                 0.0|                 0.0|         0.0|       0.0|               0.0|            2.0|             1.0|    1|          (8,[0],[1.0])|         (15,[2],[1.0])|               (6,[0],[1.0])|          (14,[1],[1.0])|             (5,[0],[1.0])|     (4,[0],[1.0])|       (1,[0],[1.0])|              (41,[0],[1.0])|(100,[0,1,2,3,5,6...|\n",
      "|[25.6251293076168...|            0.0|                 0.0|                 0.0|         0.0|       0.0|               0.0|            2.0|             1.0|    1|          (8,[0],[1.0])|         (15,[2],[1.0])|               (6,[0],[1.0])|          (14,[1],[1.0])|             (5,[0],[1.0])|     (4,[0],[1.0])|       (1,[0],[1.0])|              (41,[0],[1.0])|(100,[0,1,2,5,6,1...|\n",
      "|[40.1480813314212...|            0.0|                 0.0|                 0.0|         0.0|       0.0|               0.0|            0.0|             2.0|    1|          (8,[0],[1.0])|         (15,[0],[1.0])|               (6,[0],[1.0])|          (14,[2],[1.0])|             (5,[0],[1.0])|     (4,[0],[1.0])|       (1,[0],[1.0])|              (41,[0],[1.0])|(100,[0,1,2,3,5,6...|\n",
      "|[89.7410916902562...|            0.0|                22.0|                 0.0|         0.0|       0.0|               0.0|            3.0|             0.0|    1|          (8,[0],[1.0])|         (15,[3],[1.0])|               (6,[0],[1.0])|          (14,[0],[1.0])|             (5,[0],[1.0])|     (4,[0],[1.0])|       (1,[0],[1.0])|             (41,[22],[1.0])|(100,[0,1,2,5,6,3...|\n",
      "|[23.4312440374459...|            0.0|                 0.0|                 0.0|         0.0|       0.0|               0.0|            3.0|             1.0|    1|          (8,[0],[1.0])|         (15,[3],[1.0])|               (6,[0],[1.0])|          (14,[1],[1.0])|             (5,[0],[1.0])|     (4,[0],[1.0])|       (1,[0],[1.0])|              (41,[0],[1.0])|(100,[0,1,2,5,6,1...|\n",
      "|[40.6124004197376...|            0.0|                 0.0|                 0.0|         0.0|       0.0|               0.0|            2.0|             1.0|    1|          (8,[0],[1.0])|         (15,[2],[1.0])|               (6,[0],[1.0])|          (14,[1],[1.0])|             (5,[0],[1.0])|     (4,[0],[1.0])|       (1,[0],[1.0])|              (41,[0],[1.0])|(100,[0,1,2,3,5,6...|\n",
      "|[38.0,95244.75766...|            0.0|                 0.0|                 0.0|         0.0|       0.0|               0.0|            0.0|             3.0|    1|          (8,[0],[1.0])|         (15,[0],[1.0])|               (6,[0],[1.0])|          (14,[3],[1.0])|             (5,[0],[1.0])|     (4,[0],[1.0])|       (1,[0],[1.0])|              (41,[0],[1.0])|(100,[0,1,2,5,6,1...|\n",
      "|[43.4022874431206...|            0.0|                 0.0|                 0.0|         0.0|       0.0|               0.0|            3.0|             1.0|    1|          (8,[0],[1.0])|         (15,[3],[1.0])|               (6,[0],[1.0])|          (14,[1],[1.0])|             (5,[0],[1.0])|     (4,[0],[1.0])|       (1,[0],[1.0])|              (41,[0],[1.0])|(100,[0,1,2,5,6,1...|\n",
      "|[43.0797835032851...|            0.0|                 0.0|                 0.0|         0.0|       0.0|               0.0|            2.0|             1.0|    1|          (8,[0],[1.0])|         (15,[2],[1.0])|               (6,[0],[1.0])|          (14,[1],[1.0])|             (5,[0],[1.0])|     (4,[0],[1.0])|       (1,[0],[1.0])|              (41,[0],[1.0])|(100,[0,1,2,4,5,6...|\n",
      "|[51.6489813931988...|            0.0|                 0.0|                 3.0|         0.0|       0.0|               0.0|            0.0|             1.0|    1|          (8,[0],[1.0])|         (15,[0],[1.0])|               (6,[3],[1.0])|          (14,[1],[1.0])|             (5,[0],[1.0])|     (4,[0],[1.0])|       (1,[0],[1.0])|              (41,[0],[1.0])|(100,[0,1,2,5,6,1...|\n",
      "|[32.3902814411352...|            0.0|                 0.0|                 0.0|         0.0|       0.0|               0.0|            1.0|             8.0|    1|          (8,[0],[1.0])|         (15,[1],[1.0])|               (6,[0],[1.0])|          (14,[8],[1.0])|             (5,[0],[1.0])|     (4,[0],[1.0])|       (1,[0],[1.0])|              (41,[0],[1.0])|(100,[0,1,2,5,6,1...|\n",
      "|[72.2288508531224...|            0.0|                 0.0|                 0.0|         0.0|       0.0|               0.0|            6.0|            11.0|    1|          (8,[0],[1.0])|         (15,[6],[1.0])|               (6,[0],[1.0])|         (14,[11],[1.0])|             (5,[0],[1.0])|     (4,[0],[1.0])|       (1,[0],[1.0])|              (41,[0],[1.0])|(100,[0,1,2,5,6,1...|\n",
      "+--------------------+---------------+--------------------+--------------------+------------+----------+------------------+---------------+----------------+-----+-----------------------+-----------------------+----------------------------+------------------------+--------------------------+------------------+--------------------+----------------------------+--------------------+\n",
      "only showing top 20 rows\n",
      "\n"
     ]
    }
   ],
   "source": [
    "preppedDataDF.show()"
   ]
  },
  {
   "cell_type": "code",
   "execution_count": 87,
   "metadata": {},
   "outputs": [],
   "source": [
    "A = preppedDataDF.select('all_features').toPandas()"
   ]
  },
  {
   "cell_type": "code",
   "execution_count": null,
   "metadata": {},
   "outputs": [],
   "source": []
  },
  {
   "cell_type": "code",
   "execution_count": null,
   "metadata": {},
   "outputs": [],
   "source": []
  },
  {
   "cell_type": "code",
   "execution_count": null,
   "metadata": {},
   "outputs": [],
   "source": []
  },
  {
   "cell_type": "code",
   "execution_count": null,
   "metadata": {},
   "outputs": [],
   "source": []
  },
  {
   "cell_type": "code",
   "execution_count": 422,
   "metadata": {},
   "outputs": [],
   "source": [
    "#stages = one_hot_encode_cat_cols(trainingData,cat_cols,'classVec')\n",
    "#stages_2 = assemble_into_features(trainingData,num_cols,cat_cols,stages,'classVec')"
   ]
  },
  {
   "cell_type": "code",
   "execution_count": 423,
   "metadata": {},
   "outputs": [],
   "source": [
    "#having compiled the stages into a list, at execution, it will automatically sort out the sequence to perform steps in stages\n",
    "#like when .fit() is called, what should be executed...\n",
    "partialPipeline = Pipeline().setStages(stages) #type is pipeline, independent of dataframe, only using stages \n",
    "\n",
    "pipelineModel = partialPipeline.fit(trainingData) #type is pipelinemodel, use the prepared staged pipelines to fit dataframe\n",
    "\n",
    "preppedDataDF = pipelineModel.transform(trainingData) #type is stage transformed dataframe, it contains all original columns, and indexed/encoded/vector_encoded columns\n"
   ]
  },
  {
   "cell_type": "code",
   "execution_count": 424,
   "metadata": {},
   "outputs": [],
   "source": [
    "preppedDataDF = preppedDataDF.withColumnRenamed(\"income\",\"label\")"
   ]
  },
  {
   "cell_type": "code",
   "execution_count": 425,
   "metadata": {},
   "outputs": [],
   "source": [
    "preppedDataDF_test = pipelineModel.transform(testData)\n",
    "preppedDataDF_test = preppedDataDF_test.withColumnRenamed(\"income\",\"label\")"
   ]
  },
  {
   "cell_type": "code",
   "execution_count": 426,
   "metadata": {},
   "outputs": [],
   "source": [
    "# now to train on the train set\n",
    "from pyspark.ml.classification import RandomForestClassifier\n",
    "# Create an initial RandomForest model.\n",
    "rf = RandomForestClassifier(labelCol=\"label\", featuresCol=\"features\")\n",
    "# Train model with Training Data\n",
    "rfModel = rf.fit(preppedDataDF)"
   ]
  },
  {
   "cell_type": "code",
   "execution_count": 427,
   "metadata": {},
   "outputs": [],
   "source": [
    "# Make predictions on test data using the transform() method.\n",
    "# LogisticRegression.transform() will only use the 'features' column.\n",
    "predictions = rfModel.transform(preppedDataDF_test)"
   ]
  },
  {
   "cell_type": "code",
   "execution_count": 428,
   "metadata": {},
   "outputs": [
    {
     "data": {
      "text/plain": [
       "0.8883475483195341"
      ]
     },
     "execution_count": 428,
     "metadata": {},
     "output_type": "execute_result"
    }
   ],
   "source": [
    "# View model's predictions and probabilities of each prediction class\n",
    "# You can select any columns in the above schema to view as well. For example's sake we will choose age & occupation\n",
    "from pyspark.ml.evaluation import BinaryClassificationEvaluator\n",
    "# Evaluate model\n",
    "evaluator = BinaryClassificationEvaluator(rawPredictionCol=\"rawPrediction\")\n",
    "evaluator.evaluate(predictions)"
   ]
  },
  {
   "cell_type": "code",
   "execution_count": 415,
   "metadata": {},
   "outputs": [
    {
     "data": {
      "text/plain": [
       "'areaUnderROC'"
      ]
     },
     "execution_count": 415,
     "metadata": {},
     "output_type": "execute_result"
    }
   ],
   "source": [
    "evaluator.getMetricName()"
   ]
  },
  {
   "cell_type": "code",
   "execution_count": 438,
   "metadata": {},
   "outputs": [],
   "source": [
    "pandasDF = pd.DataFrame(preppedDataDF_test.schema[\"features\"].metadata[\"ml_attr\"][\"attrs\"][\"binary\"]+preppedDataDF_test.schema[\"features\"].metadata[\"ml_attr\"][\"attrs\"][\"numeric\"]).sort_values(\"idx\")"
   ]
  },
  {
   "cell_type": "code",
   "execution_count": 440,
   "metadata": {},
   "outputs": [],
   "source": [
    "feature_dict = dict(zip(pandasDF[\"idx\"],pandasDF[\"name\"])) \n",
    "\n",
    "feature_dict_broad = sc.broadcast(feature_dict)"
   ]
  },
  {
   "cell_type": "code",
   "execution_count": null,
   "metadata": {},
   "outputs": [],
   "source": []
  },
  {
   "cell_type": "code",
   "execution_count": 463,
   "metadata": {},
   "outputs": [],
   "source": [
    "col_importance_val = []\n",
    "for i,importance in enumerate(importances):\n",
    "    col_importance_val.append([i,importance])\n",
    "\n",
    "final_sorted_importance = sorted(col_importance_val, key=lambda x: x[1], reverse =True)"
   ]
  },
  {
   "cell_type": "code",
   "execution_count": null,
   "metadata": {},
   "outputs": [],
   "source": []
  },
  {
   "cell_type": "code",
   "execution_count": 466,
   "metadata": {},
   "outputs": [],
   "source": [
    "top_feature_index = [a[0] for a in final_sorted_importance[:15]]"
   ]
  },
  {
   "cell_type": "code",
   "execution_count": 451,
   "metadata": {},
   "outputs": [],
   "source": [
    "importances = list(np.array(rfModel.featureImportances))"
   ]
  },
  {
   "cell_type": "code",
   "execution_count": 471,
   "metadata": {},
   "outputs": [],
   "source": [
    "res = []\n",
    "for i,importance in enumerate(importances):\n",
    "    feature_nm = feature_dict[i]\n",
    "    res.append([feature_nm,importance])\n",
    "    \n",
    "sorted_important_fs = sorted(res, key=lambda x: x[1], reverse =True)"
   ]
  },
  {
   "cell_type": "code",
   "execution_count": null,
   "metadata": {},
   "outputs": [],
   "source": []
  },
  {
   "cell_type": "code",
   "execution_count": 368,
   "metadata": {},
   "outputs": [],
   "source": [
    "# Doing cross validation and params tuning\n",
    "\n",
    "from pyspark.ml.tuning import ParamGridBuilder, CrossValidator\n",
    "from pyspark.ml.tuning import ParamGridBuilder, CrossValidator\n",
    "\n",
    "paramGrid = (ParamGridBuilder()\n",
    "             .addGrid(rf.maxDepth, [2, 4, 6])\n",
    "             .addGrid(rf.maxBins, [20, 60])\n",
    "             .addGrid(rf.numTrees, [5, 20])\n",
    "             .build())\n",
    "# paramGrid contains 3*2*2 = 12 models\n",
    "# cv is 5 folds, so total 60 models are searched\n",
    "\n",
    "# Create 5-fold CrossValidator, input is an estimator (rf classifier e.g.)\n",
    "cv = CrossValidator(estimator=rf, estimatorParamMaps=paramGrid, evaluator=evaluator, numFolds=5)\n",
    "# Run cross validations\n",
    "cvModel = cv.fit(trainingData)\n",
    "# this will likely take a fair amount of time because of the amount of models that we're creating and testing"
   ]
  },
  {
   "cell_type": "code",
   "execution_count": 369,
   "metadata": {},
   "outputs": [],
   "source": [
    "# Use test set to measure the accuracy of our model on new data\n",
    "predictions = cvModel.transform(testData)"
   ]
  },
  {
   "cell_type": "code",
   "execution_count": 370,
   "metadata": {},
   "outputs": [
    {
     "data": {
      "text/plain": [
       "0.8999505914844388"
      ]
     },
     "execution_count": 370,
     "metadata": {},
     "output_type": "execute_result"
    }
   ],
   "source": [
    "# cvModel uses the best model found from the Cross Validation\n",
    "# Evaluate best model\n",
    "evaluator.evaluate(predictions)"
   ]
  },
  {
   "cell_type": "code",
   "execution_count": 202,
   "metadata": {},
   "outputs": [],
   "source": [
    "# vector assembler can have inputs as: numeric,bool,vector\n",
    "# output will be a flattened vector (even if input could have vector)"
   ]
  },
  {
   "cell_type": "code",
   "execution_count": 371,
   "metadata": {},
   "outputs": [],
   "source": [
    "bestModel = cvModel.bestModel"
   ]
  },
  {
   "cell_type": "code",
   "execution_count": 372,
   "metadata": {},
   "outputs": [],
   "source": [
    "# Generate predictions for entire dataset\n",
    "finalPredictions = bestModel.transform(dataset)\n",
    "# Evaluate best model\n",
    "evaluator.evaluate(finalPredictions)"
   ]
  },
  {
   "cell_type": "code",
   "execution_count": null,
   "metadata": {},
   "outputs": [],
   "source": []
  },
  {
   "cell_type": "code",
   "execution_count": null,
   "metadata": {},
   "outputs": [],
   "source": [
    "'''\n",
    "from pyspark.ml.feature import StringIndexer, IndexToString\n",
    "labelReverse = IndexToString().setInputCol(\"race_index\").setOutputCol(\"recover\")\n",
    "labelReverse.transform(vectorized).select(\"race_index\",\"recover\").show()\n",
    "'''"
   ]
  }
 ],
 "metadata": {
  "kernelspec": {
   "display_name": "Python 3",
   "language": "python",
   "name": "python3"
  },
  "language_info": {
   "codemirror_mode": {
    "name": "ipython",
    "version": 3
   },
   "file_extension": ".py",
   "mimetype": "text/x-python",
   "name": "python",
   "nbconvert_exporter": "python",
   "pygments_lexer": "ipython3",
   "version": "3.7.6"
  }
 },
 "nbformat": 4,
 "nbformat_minor": 4
}
